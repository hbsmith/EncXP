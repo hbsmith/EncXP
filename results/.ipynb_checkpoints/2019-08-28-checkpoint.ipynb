{
 "cells": [
  {
   "cell_type": "code",
   "execution_count": 64,
   "metadata": {},
   "outputs": [],
   "source": [
    "import json\n",
    "import seaborn as sns\n",
    "import pandas as pd\n",
    "import matplotlib as mpl\n",
    "import matplotlib.pyplot as plt\n",
    "import numpy as np\n",
    "import os\n",
    "import glob\n",
    "import csv\n",
    "import networkx as nx\n",
    "import itertools"
   ]
  },
  {
   "cell_type": "code",
   "execution_count": 65,
   "metadata": {},
   "outputs": [],
   "source": [
    "%matplotlib inline"
   ]
  },
  {
   "cell_type": "markdown",
   "metadata": {},
   "source": [
    "# 2019-08-28"
   ]
  },
  {
   "cell_type": "markdown",
   "metadata": {},
   "source": [
    "#### Start loading files"
   ]
  },
  {
   "cell_type": "code",
   "execution_count": 66,
   "metadata": {},
   "outputs": [],
   "source": [
    "with open(\"../links/Freilich09.json\") as f:\n",
    "    master_targets = json.load(f)"
   ]
  },
  {
   "cell_type": "code",
   "execution_count": 67,
   "metadata": {},
   "outputs": [],
   "source": [
    "all_5w = list()\n",
    "for fname in glob.glob(\"formatted/5w/*.json\"):\n",
    "    with open(fname) as f:\n",
    "        all_5w.append(json.load(f))"
   ]
  },
  {
   "cell_type": "code",
   "execution_count": 68,
   "metadata": {},
   "outputs": [],
   "source": [
    "all_5nw = list()\n",
    "for fname in glob.glob(\"formatted/5nw/*.json\"):\n",
    "    with open(fname) as f:\n",
    "        all_5nw.append(json.load(f))"
   ]
  },
  {
   "cell_type": "code",
   "execution_count": 69,
   "metadata": {},
   "outputs": [],
   "source": [
    "all_10w = list()\n",
    "for fname in glob.glob(\"formatted/10w/*.json\"):\n",
    "    with open(fname) as f:\n",
    "        all_10w.append(json.load(f))"
   ]
  },
  {
   "cell_type": "code",
   "execution_count": 70,
   "metadata": {},
   "outputs": [],
   "source": [
    "all_10nw = list()\n",
    "for fname in glob.glob(\"formatted/10nw/*.json\"):\n",
    "    with open(fname) as f:\n",
    "        all_10nw.append(json.load(f))"
   ]
  },
  {
   "cell_type": "code",
   "execution_count": 71,
   "metadata": {},
   "outputs": [],
   "source": [
    "all_expansions = {\"5w\":all_5w,\"5nw\":all_5nw,\"10w\":all_10w,\"10nw\":all_10nw}"
   ]
  },
  {
   "cell_type": "markdown",
   "metadata": {},
   "source": [
    "Look at disconnect between master targets and all scope targets (example)"
   ]
  },
  {
   "cell_type": "code",
   "execution_count": 72,
   "metadata": {},
   "outputs": [],
   "source": [
    "assert len(all_5nw[0]['stats']['scope_targets'])==len(set(all_5nw[0]['stats']['scope_targets']))"
   ]
  },
  {
   "cell_type": "code",
   "execution_count": 73,
   "metadata": {},
   "outputs": [],
   "source": [
    "missing_targets = set(master_targets)-set(all_5nw[0]['stats']['scope_targets'])"
   ]
  },
  {
   "cell_type": "markdown",
   "metadata": {},
   "source": [
    "I should check if it's even possible to make these compounds with the set that John used."
   ]
  },
  {
   "cell_type": "code",
   "execution_count": 74,
   "metadata": {},
   "outputs": [],
   "source": [
    "with open(\"../links/reaction_edges.json\") as f:\n",
    "    reaction_edges = json.load(f)"
   ]
  },
  {
   "cell_type": "code",
   "execution_count": 75,
   "metadata": {},
   "outputs": [],
   "source": [
    "for k in reaction_edges.keys():\n",
    "    for r in reaction_edges[k]:\n",
    "        current_set = set(reaction_edges[k][r])\n",
    "        if len(missing_targets&current_set)>0:\n",
    "            print(k,r,current_set)"
   ]
  },
  {
   "cell_type": "code",
   "execution_count": 76,
   "metadata": {},
   "outputs": [
    {
     "data": {
      "text/plain": [
       "{'C05890', 'C05899'}"
      ]
     },
     "execution_count": 76,
     "metadata": {},
     "output_type": "execute_result"
    }
   ],
   "source": [
    "missing_targets"
   ]
  },
  {
   "cell_type": "markdown",
   "metadata": {},
   "source": [
    "These are not possible to generate from the reaction_edges used!! This is why even though they are in the master Freilich set, they are not in the individual expansion scope_targets."
   ]
  },
  {
   "cell_type": "markdown",
   "metadata": {},
   "source": [
    "Let's check a little more robustly to see what the missing taget distribution is."
   ]
  },
  {
   "cell_type": "code",
   "execution_count": 77,
   "metadata": {},
   "outputs": [],
   "source": [
    "all_missing = dict()\n",
    "for k in all_expansions:\n",
    "    all_missing[k] = set()\n",
    "    for run in all_expansions[k]:\n",
    "        current_missing = set(master_targets)-set(run['stats']['scope_targets'])\n",
    "        all_missing[k] = all_missing[k]|current_missing"
   ]
  },
  {
   "cell_type": "code",
   "execution_count": 78,
   "metadata": {},
   "outputs": [
    {
     "data": {
      "text/plain": [
       "{'5w': {'C05890', 'C05899'},\n",
       " '5nw': {'C05890', 'C05899'},\n",
       " '10w': {'C05890', 'C05899'},\n",
       " '10nw': {'C05890', 'C05899'}}"
      ]
     },
     "execution_count": 78,
     "metadata": {},
     "output_type": "execute_result"
    }
   ],
   "source": [
    "all_missing"
   ]
  },
  {
   "cell_type": "markdown",
   "metadata": {},
   "source": [
    "Yep, so only those two compounds which don't even exist in the KEGG database anymore are missing."
   ]
  },
  {
   "cell_type": "markdown",
   "metadata": {},
   "source": [
    "#### What about the difference between the scope targets and what actually gets produced for each randomization?"
   ]
  },
  {
   "cell_type": "markdown",
   "metadata": {},
   "source": [
    "Example of how to calculate for a single run:"
   ]
  },
  {
   "cell_type": "code",
   "execution_count": 79,
   "metadata": {},
   "outputs": [],
   "source": [
    "max_gen = max([int(k) for k in all_5nw[0]['generations'].keys()])"
   ]
  },
  {
   "cell_type": "code",
   "execution_count": 80,
   "metadata": {},
   "outputs": [
    {
     "data": {
      "text/plain": [
       "{'C00002',\n",
       " 'C00003',\n",
       " 'C00004',\n",
       " 'C00005',\n",
       " 'C00006',\n",
       " 'C00008',\n",
       " 'C00015',\n",
       " 'C00016',\n",
       " 'C00020',\n",
       " 'C00024',\n",
       " 'C00025',\n",
       " 'C00035',\n",
       " 'C00037',\n",
       " 'C00041',\n",
       " 'C00043',\n",
       " 'C00044',\n",
       " 'C00047',\n",
       " 'C00049',\n",
       " 'C00054',\n",
       " 'C00055',\n",
       " 'C00062',\n",
       " 'C00063',\n",
       " 'C00064',\n",
       " 'C00065',\n",
       " 'C00073',\n",
       " 'C00075',\n",
       " 'C00078',\n",
       " 'C00079',\n",
       " 'C00082',\n",
       " 'C00097',\n",
       " 'C00105',\n",
       " 'C00112',\n",
       " 'C00116',\n",
       " 'C00123',\n",
       " 'C00131',\n",
       " 'C00135',\n",
       " 'C00144',\n",
       " 'C00148',\n",
       " 'C00152',\n",
       " 'C00183',\n",
       " 'C00188',\n",
       " 'C00234',\n",
       " 'C00239',\n",
       " 'C00249',\n",
       " 'C00255',\n",
       " 'C00286',\n",
       " 'C00350',\n",
       " 'C00360',\n",
       " 'C00362',\n",
       " 'C00364',\n",
       " 'C00399',\n",
       " 'C00407',\n",
       " 'C00458',\n",
       " 'C00459',\n",
       " 'C00641',\n",
       " 'C00748',\n",
       " 'C01050',\n",
       " 'C05764',\n",
       " 'C05894',\n",
       " 'C05980',\n",
       " 'C06040',\n",
       " 'C15672',\n",
       " 'C16221'}"
      ]
     },
     "execution_count": 80,
     "metadata": {},
     "output_type": "execute_result"
    }
   ],
   "source": [
    "set(all_5nw[0]['stats']['scope_targets']) - set(all_5nw[0]['generations'][str(max_gen)]['targets_cumulative'])"
   ]
  },
  {
   "cell_type": "markdown",
   "metadata": {},
   "source": [
    "Let's get for all runs:"
   ]
  },
  {
   "cell_type": "code",
   "execution_count": 81,
   "metadata": {},
   "outputs": [],
   "source": [
    "all_unreached = dict()\n",
    "for k in all_expansions:\n",
    "    all_unreached[k] = list()\n",
    "    for run in all_expansions[k]:\n",
    "        max_gen = max([int(j) for j in run['generations'].keys()])\n",
    "        current_unreached = set(run['stats']['scope_targets']) - set(run['generations'][str(max_gen)]['targets_cumulative'])\n",
    "        all_unreached[k].append(list(current_unreached))"
   ]
  },
  {
   "cell_type": "code",
   "execution_count": 82,
   "metadata": {},
   "outputs": [],
   "source": [
    "from collections import Counter"
   ]
  },
  {
   "cell_type": "code",
   "execution_count": 83,
   "metadata": {},
   "outputs": [
    {
     "name": "stdout",
     "output_type": "stream",
     "text": [
      "5w 63\n",
      "5nw 63\n",
      "10w 2\n",
      "10nw 2\n"
     ]
    }
   ],
   "source": [
    "for k in all_unreached:\n",
    "    print(k,len(Counter([i for outer in all_unreached[k] for i in outer])))"
   ]
  },
  {
   "cell_type": "code",
   "execution_count": 84,
   "metadata": {},
   "outputs": [
    {
     "name": "stdout",
     "output_type": "stream",
     "text": [
      "5w Counter({2: 54, 63: 46})\n",
      "5nw Counter({63: 66, 2: 34})\n",
      "10w Counter({2: 100})\n",
      "10nw Counter({2: 100})\n"
     ]
    }
   ],
   "source": [
    "for k in all_unreached:\n",
    "#     print([len(i) for i in k])\n",
    "    print(k,Counter([len(i) for i in all_unreached[k]]))"
   ]
  },
  {
   "cell_type": "markdown",
   "metadata": {},
   "source": [
    "All expansions miss Heme O and Siroheme. Weird that the expansions always have one of two outcomes. Makes me slightly suspicious?"
   ]
  },
  {
   "cell_type": "code",
   "execution_count": 88,
   "metadata": {},
   "outputs": [
    {
     "data": {
      "text/plain": [
       "Counter({'C00748': 100,\n",
       "         'C15672': 100,\n",
       "         'C00123': 46,\n",
       "         'C00064': 46,\n",
       "         'C00082': 46,\n",
       "         'C01050': 46,\n",
       "         'C00002': 46,\n",
       "         'C00003': 46,\n",
       "         'C00073': 46,\n",
       "         'C00047': 46,\n",
       "         'C00078': 46,\n",
       "         'C00005': 46,\n",
       "         'C00350': 46,\n",
       "         'C00399': 46,\n",
       "         'C00015': 46,\n",
       "         'C00407': 46,\n",
       "         'C00062': 46,\n",
       "         'C00148': 46,\n",
       "         'C00362': 46,\n",
       "         'C00079': 46,\n",
       "         'C00360': 46,\n",
       "         'C00286': 46,\n",
       "         'C00112': 46,\n",
       "         'C00041': 46,\n",
       "         'C00055': 46,\n",
       "         'C00037': 46,\n",
       "         'C00144': 46,\n",
       "         'C00008': 46,\n",
       "         'C00183': 46,\n",
       "         'C00116': 46,\n",
       "         'C00249': 46,\n",
       "         'C00043': 46,\n",
       "         'C00234': 46,\n",
       "         'C00131': 46,\n",
       "         'C00063': 46,\n",
       "         'C00459': 46,\n",
       "         'C00065': 46,\n",
       "         'C00044': 46,\n",
       "         'C00239': 46,\n",
       "         'C00020': 46,\n",
       "         'C00054': 46,\n",
       "         'C00035': 46,\n",
       "         'C00458': 46,\n",
       "         'C00025': 46,\n",
       "         'C05764': 46,\n",
       "         'C00135': 46,\n",
       "         'C00188': 46,\n",
       "         'C00364': 46,\n",
       "         'C00097': 46,\n",
       "         'C06040': 46,\n",
       "         'C00016': 46,\n",
       "         'C05894': 46,\n",
       "         'C16221': 46,\n",
       "         'C00641': 46,\n",
       "         'C00075': 46,\n",
       "         'C00006': 46,\n",
       "         'C00004': 46,\n",
       "         'C00152': 46,\n",
       "         'C00049': 46,\n",
       "         'C05980': 46,\n",
       "         'C00024': 46,\n",
       "         'C00105': 46,\n",
       "         'C00255': 46})"
      ]
     },
     "execution_count": 88,
     "metadata": {},
     "output_type": "execute_result"
    }
   ],
   "source": [
    "Counter([i for outer in all_unreached['5w'] for i in outer])"
   ]
  },
  {
   "cell_type": "code",
   "execution_count": 85,
   "metadata": {},
   "outputs": [
    {
     "data": {
      "text/plain": [
       "Counter({'C00123': 66,\n",
       "         'C00064': 66,\n",
       "         'C00082': 66,\n",
       "         'C01050': 66,\n",
       "         'C00002': 66,\n",
       "         'C00003': 66,\n",
       "         'C00073': 66,\n",
       "         'C00047': 66,\n",
       "         'C00078': 66,\n",
       "         'C00005': 66,\n",
       "         'C00350': 66,\n",
       "         'C00399': 66,\n",
       "         'C00015': 66,\n",
       "         'C00407': 66,\n",
       "         'C00062': 66,\n",
       "         'C00148': 66,\n",
       "         'C00362': 66,\n",
       "         'C00079': 66,\n",
       "         'C00360': 66,\n",
       "         'C00286': 66,\n",
       "         'C00112': 66,\n",
       "         'C00041': 66,\n",
       "         'C00055': 66,\n",
       "         'C00037': 66,\n",
       "         'C00144': 66,\n",
       "         'C00008': 66,\n",
       "         'C00183': 66,\n",
       "         'C00116': 66,\n",
       "         'C00249': 66,\n",
       "         'C00043': 66,\n",
       "         'C00234': 66,\n",
       "         'C15672': 100,\n",
       "         'C00131': 66,\n",
       "         'C00063': 66,\n",
       "         'C00459': 66,\n",
       "         'C00065': 66,\n",
       "         'C00044': 66,\n",
       "         'C00239': 66,\n",
       "         'C00020': 66,\n",
       "         'C00054': 66,\n",
       "         'C00035': 66,\n",
       "         'C00458': 66,\n",
       "         'C00025': 66,\n",
       "         'C05764': 66,\n",
       "         'C00135': 66,\n",
       "         'C00188': 66,\n",
       "         'C00364': 66,\n",
       "         'C00097': 66,\n",
       "         'C06040': 66,\n",
       "         'C00016': 66,\n",
       "         'C05894': 66,\n",
       "         'C16221': 66,\n",
       "         'C00641': 66,\n",
       "         'C00075': 66,\n",
       "         'C00006': 66,\n",
       "         'C00004': 66,\n",
       "         'C00152': 66,\n",
       "         'C00049': 66,\n",
       "         'C00748': 100,\n",
       "         'C05980': 66,\n",
       "         'C00024': 66,\n",
       "         'C00105': 66,\n",
       "         'C00255': 66})"
      ]
     },
     "execution_count": 85,
     "metadata": {},
     "output_type": "execute_result"
    }
   ],
   "source": [
    "Counter([i for outer in all_unreached['5nw'] for i in outer])"
   ]
  },
  {
   "cell_type": "code",
   "execution_count": 86,
   "metadata": {},
   "outputs": [
    {
     "data": {
      "text/plain": [
       "Counter({'C00748': 100, 'C15672': 100})"
      ]
     },
     "execution_count": 86,
     "metadata": {},
     "output_type": "execute_result"
    }
   ],
   "source": [
    "Counter([i for outer in all_unreached['10w'] for i in outer])"
   ]
  },
  {
   "cell_type": "code",
   "execution_count": 87,
   "metadata": {},
   "outputs": [
    {
     "data": {
      "text/plain": [
       "Counter({'C00748': 100, 'C15672': 100})"
      ]
     },
     "execution_count": 87,
     "metadata": {},
     "output_type": "execute_result"
    }
   ],
   "source": [
    "Counter([i for outer in all_unreached['10nw'] for i in outer])"
   ]
  },
  {
   "cell_type": "markdown",
   "metadata": {},
   "source": [
    "#### Look at number of unique seed sets"
   ]
  },
  {
   "cell_type": "code",
   "execution_count": 92,
   "metadata": {},
   "outputs": [],
   "source": [
    "all_seeds = dict()\n",
    "for k in all_expansions:\n",
    "    all_seeds[k] = list()\n",
    "    for run in all_expansions[k]:\n",
    "        all_seeds[k].append(frozenset(run['stats']['scope_seeds']))"
   ]
  },
  {
   "cell_type": "code",
   "execution_count": 95,
   "metadata": {},
   "outputs": [
    {
     "data": {
      "text/plain": [
       "37"
      ]
     },
     "execution_count": 95,
     "metadata": {},
     "output_type": "execute_result"
    }
   ],
   "source": [
    "len(set(all_seeds['5w']))"
   ]
  },
  {
   "cell_type": "code",
   "execution_count": 96,
   "metadata": {},
   "outputs": [
    {
     "data": {
      "text/plain": [
       "100"
      ]
     },
     "execution_count": 96,
     "metadata": {},
     "output_type": "execute_result"
    }
   ],
   "source": [
    "len(all_seeds['5w'])"
   ]
  },
  {
   "cell_type": "markdown",
   "metadata": {},
   "source": [
    "So this means John allows the same seed set to be drawn more than once. I think that's good..."
   ]
  },
  {
   "cell_type": "code",
   "execution_count": null,
   "metadata": {},
   "outputs": [],
   "source": []
  }
 ],
 "metadata": {
  "kernelspec": {
   "display_name": "Python 3",
   "language": "python",
   "name": "python3"
  },
  "language_info": {
   "codemirror_mode": {
    "name": "ipython",
    "version": 3
   },
   "file_extension": ".py",
   "mimetype": "text/x-python",
   "name": "python",
   "nbconvert_exporter": "python",
   "pygments_lexer": "ipython3",
   "version": "3.7.2"
  }
 },
 "nbformat": 4,
 "nbformat_minor": 2
}
