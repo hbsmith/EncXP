{
 "cells": [
  {
   "cell_type": "code",
   "execution_count": 2,
   "metadata": {},
   "outputs": [],
   "source": [
    "import json\n",
    "import seaborn as sns\n",
    "import pandas as pd\n",
    "import matplotlib as mpl\n",
    "import matplotlib.pyplot as plt\n",
    "import numpy as np\n",
    "import os\n",
    "import glob\n",
    "import csv\n",
    "import networkx as nx\n",
    "import itertools"
   ]
  },
  {
   "cell_type": "code",
   "execution_count": 3,
   "metadata": {},
   "outputs": [],
   "source": [
    "%matplotlib inline"
   ]
  },
  {
   "cell_type": "markdown",
   "metadata": {},
   "source": [
    "# 2019-08-28"
   ]
  },
  {
   "cell_type": "markdown",
   "metadata": {},
   "source": [
    "#### Start loading files"
   ]
  },
  {
   "cell_type": "code",
   "execution_count": 10,
   "metadata": {},
   "outputs": [],
   "source": [
    "with open(\"../links/Freilich09.json\") as f:\n",
    "    master_targets = json.load(f)"
   ]
  },
  {
   "cell_type": "code",
   "execution_count": 4,
   "metadata": {},
   "outputs": [],
   "source": [
    "all_5nw = list()\n",
    "for fname in glob.glob(\"formatted/5nw/*.json\"):\n",
    "    with open(fname) as f:\n",
    "        all_5nw.append(json.load(f))"
   ]
  },
  {
   "cell_type": "code",
   "execution_count": 11,
   "metadata": {},
   "outputs": [],
   "source": [
    "all_10w = list()\n",
    "for fname in glob.glob(\"formatted/10w/*.json\"):\n",
    "    with open(fname) as f:\n",
    "        all_10w.append(json.load(f))"
   ]
  },
  {
   "cell_type": "code",
   "execution_count": 12,
   "metadata": {},
   "outputs": [],
   "source": [
    "all_10nw = list()\n",
    "for fname in glob.glob(\"formatted/10nw/*.json\"):\n",
    "    with open(fname) as f:\n",
    "        all_10nw.append(json.load(f))"
   ]
  },
  {
   "cell_type": "code",
   "execution_count": 13,
   "metadata": {},
   "outputs": [],
   "source": [
    "all_expansions = {\"5nw\":all_5nw,\"10w\":all_10w,\"10nw\":all_10nw}"
   ]
  },
  {
   "cell_type": "markdown",
   "metadata": {},
   "source": [
    "Look at disconnect between master targets and all scope targets (example)"
   ]
  },
  {
   "cell_type": "code",
   "execution_count": 16,
   "metadata": {},
   "outputs": [],
   "source": [
    "assert len(all_5nw[0]['stats']['scope_targets'])==len(set(all_5nw[0]['stats']['scope_targets']))"
   ]
  },
  {
   "cell_type": "code",
   "execution_count": 21,
   "metadata": {},
   "outputs": [],
   "source": [
    "missing_targets = set(master_targets)-set(all_5nw[0]['stats']['scope_targets'])"
   ]
  },
  {
   "cell_type": "markdown",
   "metadata": {},
   "source": [
    "I should check if it's even possible to make these compounds with the set that John used."
   ]
  },
  {
   "cell_type": "code",
   "execution_count": 18,
   "metadata": {},
   "outputs": [],
   "source": [
    "with open(\"../links/reaction_edges.json\") as f:\n",
    "    reaction_edges = json.load(f)"
   ]
  },
  {
   "cell_type": "code",
   "execution_count": 25,
   "metadata": {},
   "outputs": [],
   "source": [
    "for k in reaction_edges.keys():\n",
    "    for r in reaction_edges[k]:\n",
    "        current_set = set(reaction_edges[k][r])\n",
    "        if len(missing_targets&current_set)>0:\n",
    "            print(k,r,current_set)"
   ]
  },
  {
   "cell_type": "code",
   "execution_count": 26,
   "metadata": {},
   "outputs": [
    {
     "data": {
      "text/plain": [
       "{'C05890', 'C05899'}"
      ]
     },
     "execution_count": 26,
     "metadata": {},
     "output_type": "execute_result"
    }
   ],
   "source": [
    "missing_targets"
   ]
  },
  {
   "cell_type": "markdown",
   "metadata": {},
   "source": [
    "These are not possible to generate from the reaction_edges used!! This is why even though they are in the master Freilich set, they are not in the individual expansion scope_targets."
   ]
  },
  {
   "cell_type": "markdown",
   "metadata": {},
   "source": [
    "Let's check a little more robustly to see what the missing taget distribution is."
   ]
  },
  {
   "cell_type": "code",
   "execution_count": 27,
   "metadata": {},
   "outputs": [],
   "source": [
    "all_missing = dict()\n",
    "for k in all_expansions:\n",
    "    all_missing[k] = set()\n",
    "    for run in all_expansions[k]:\n",
    "        current_missing = set(master_targets)-set(run['stats']['scope_targets'])\n",
    "        all_missing[k] = all_missing[k]|current_missing"
   ]
  },
  {
   "cell_type": "code",
   "execution_count": 28,
   "metadata": {},
   "outputs": [
    {
     "data": {
      "text/plain": [
       "{'5nw': {'C05890', 'C05899'},\n",
       " '10w': {'C05890', 'C05899'},\n",
       " '10nw': {'C05890', 'C05899'}}"
      ]
     },
     "execution_count": 28,
     "metadata": {},
     "output_type": "execute_result"
    }
   ],
   "source": [
    "all_missing"
   ]
  },
  {
   "cell_type": "markdown",
   "metadata": {},
   "source": [
    "Yep, so only those two compounds which don't even exist in the KEGG database anymore are missing."
   ]
  },
  {
   "cell_type": "markdown",
   "metadata": {},
   "source": [
    "#### What about the difference between the scope targets and what actually gets produced for each randomization?"
   ]
  },
  {
   "cell_type": "markdown",
   "metadata": {},
   "source": [
    "Example of how to calculate for a single run:"
   ]
  },
  {
   "cell_type": "code",
   "execution_count": 40,
   "metadata": {},
   "outputs": [],
   "source": [
    "max_gen = max([int(k) for k in all_5nw[0]['generations'].keys()])"
   ]
  },
  {
   "cell_type": "code",
   "execution_count": 43,
   "metadata": {},
   "outputs": [
    {
     "data": {
      "text/plain": [
       "{'C00748', 'C15672'}"
      ]
     },
     "execution_count": 43,
     "metadata": {},
     "output_type": "execute_result"
    }
   ],
   "source": [
    "set(all_5nw[0]['stats']['scope_targets']) - set(all_5nw[0]['generations'][str(max_gen)]['targets_cumulative'])"
   ]
  },
  {
   "cell_type": "markdown",
   "metadata": {},
   "source": [
    "Let's get for all runs:"
   ]
  },
  {
   "cell_type": "code",
   "execution_count": 48,
   "metadata": {},
   "outputs": [],
   "source": [
    "all_unreached = dict()\n",
    "for k in all_expansions:\n",
    "    all_unreached[k] = list()\n",
    "    for run in all_expansions[k]:\n",
    "        max_gen = max([int(j) for j in run['generations'].keys()])\n",
    "        current_unreached = set(run['stats']['scope_targets']) - set(run['generations'][str(max_gen)]['targets_cumulative'])\n",
    "        all_unreached[k].append(list(current_unreached))"
   ]
  },
  {
   "cell_type": "code",
   "execution_count": 49,
   "metadata": {},
   "outputs": [],
   "source": [
    "from collections import Counter"
   ]
  },
  {
   "cell_type": "code",
   "execution_count": 56,
   "metadata": {},
   "outputs": [
    {
     "name": "stdout",
     "output_type": "stream",
     "text": [
      "5nw 63\n",
      "10w 63\n",
      "10nw 63\n"
     ]
    }
   ],
   "source": [
    "for k in all_unreached:\n",
    "    print(k,len(Counter([i for outer in all_unreached[k] for i in outer])))"
   ]
  },
  {
   "cell_type": "code",
   "execution_count": 63,
   "metadata": {},
   "outputs": [
    {
     "name": "stdout",
     "output_type": "stream",
     "text": [
      "5nw Counter({63: 77, 2: 23})\n",
      "10w Counter({2: 99, 63: 1})\n",
      "10nw Counter({2: 76, 63: 24})\n"
     ]
    }
   ],
   "source": [
    "for k in all_unreached:\n",
    "#     print([len(i) for i in k])\n",
    "    print(k,Counter([len(i) for i in all_unreached[k]]))"
   ]
  },
  {
   "cell_type": "markdown",
   "metadata": {},
   "source": [
    "All expansions miss Heme O and Siroheme. Weird that the expansions always have one of two outcomes. Makes me slightly suspicious?"
   ]
  },
  {
   "cell_type": "code",
   "execution_count": 52,
   "metadata": {},
   "outputs": [
    {
     "data": {
      "text/plain": [
       "Counter({'C00748': 100,\n",
       "         'C15672': 100,\n",
       "         'C00123': 77,\n",
       "         'C00064': 77,\n",
       "         'C00082': 77,\n",
       "         'C01050': 77,\n",
       "         'C00002': 77,\n",
       "         'C00003': 77,\n",
       "         'C00073': 77,\n",
       "         'C00047': 77,\n",
       "         'C00078': 77,\n",
       "         'C00005': 77,\n",
       "         'C00350': 77,\n",
       "         'C00399': 77,\n",
       "         'C00015': 77,\n",
       "         'C00407': 77,\n",
       "         'C00062': 77,\n",
       "         'C00148': 77,\n",
       "         'C00362': 77,\n",
       "         'C00079': 77,\n",
       "         'C00360': 77,\n",
       "         'C00286': 77,\n",
       "         'C00112': 77,\n",
       "         'C00041': 77,\n",
       "         'C00055': 77,\n",
       "         'C00037': 77,\n",
       "         'C00144': 77,\n",
       "         'C00008': 77,\n",
       "         'C00183': 77,\n",
       "         'C00116': 77,\n",
       "         'C00249': 77,\n",
       "         'C00043': 77,\n",
       "         'C00234': 77,\n",
       "         'C00131': 77,\n",
       "         'C00063': 77,\n",
       "         'C00459': 77,\n",
       "         'C00065': 77,\n",
       "         'C00044': 77,\n",
       "         'C00239': 77,\n",
       "         'C00020': 77,\n",
       "         'C00054': 77,\n",
       "         'C00035': 77,\n",
       "         'C00458': 77,\n",
       "         'C00025': 77,\n",
       "         'C05764': 77,\n",
       "         'C00135': 77,\n",
       "         'C00188': 77,\n",
       "         'C00364': 77,\n",
       "         'C00097': 77,\n",
       "         'C06040': 77,\n",
       "         'C00016': 77,\n",
       "         'C05894': 77,\n",
       "         'C16221': 77,\n",
       "         'C00641': 77,\n",
       "         'C00075': 77,\n",
       "         'C00006': 77,\n",
       "         'C00004': 77,\n",
       "         'C00152': 77,\n",
       "         'C00049': 77,\n",
       "         'C05980': 77,\n",
       "         'C00024': 77,\n",
       "         'C00105': 77,\n",
       "         'C00255': 77})"
      ]
     },
     "execution_count": 52,
     "metadata": {},
     "output_type": "execute_result"
    }
   ],
   "source": [
    "Counter([i for outer in all_unreached['5nw'] for i in outer])"
   ]
  },
  {
   "cell_type": "code",
   "execution_count": 53,
   "metadata": {},
   "outputs": [
    {
     "data": {
      "text/plain": [
       "Counter({'C00748': 100,\n",
       "         'C15672': 100,\n",
       "         'C00123': 1,\n",
       "         'C00064': 1,\n",
       "         'C00082': 1,\n",
       "         'C01050': 1,\n",
       "         'C00002': 1,\n",
       "         'C00003': 1,\n",
       "         'C00073': 1,\n",
       "         'C00047': 1,\n",
       "         'C00078': 1,\n",
       "         'C00005': 1,\n",
       "         'C00350': 1,\n",
       "         'C00399': 1,\n",
       "         'C00015': 1,\n",
       "         'C00407': 1,\n",
       "         'C00062': 1,\n",
       "         'C00148': 1,\n",
       "         'C00362': 1,\n",
       "         'C00079': 1,\n",
       "         'C00360': 1,\n",
       "         'C00286': 1,\n",
       "         'C00112': 1,\n",
       "         'C00041': 1,\n",
       "         'C00055': 1,\n",
       "         'C00037': 1,\n",
       "         'C00144': 1,\n",
       "         'C00008': 1,\n",
       "         'C00183': 1,\n",
       "         'C00116': 1,\n",
       "         'C00249': 1,\n",
       "         'C00043': 1,\n",
       "         'C00234': 1,\n",
       "         'C00131': 1,\n",
       "         'C00063': 1,\n",
       "         'C00459': 1,\n",
       "         'C00065': 1,\n",
       "         'C00044': 1,\n",
       "         'C00239': 1,\n",
       "         'C00020': 1,\n",
       "         'C00054': 1,\n",
       "         'C00035': 1,\n",
       "         'C00458': 1,\n",
       "         'C00025': 1,\n",
       "         'C05764': 1,\n",
       "         'C00135': 1,\n",
       "         'C00188': 1,\n",
       "         'C00364': 1,\n",
       "         'C00097': 1,\n",
       "         'C06040': 1,\n",
       "         'C00016': 1,\n",
       "         'C05894': 1,\n",
       "         'C16221': 1,\n",
       "         'C00641': 1,\n",
       "         'C00075': 1,\n",
       "         'C00006': 1,\n",
       "         'C00004': 1,\n",
       "         'C00152': 1,\n",
       "         'C00049': 1,\n",
       "         'C05980': 1,\n",
       "         'C00024': 1,\n",
       "         'C00105': 1,\n",
       "         'C00255': 1})"
      ]
     },
     "execution_count": 53,
     "metadata": {},
     "output_type": "execute_result"
    }
   ],
   "source": [
    "Counter([i for outer in all_unreached['10w'] for i in outer])"
   ]
  },
  {
   "cell_type": "code",
   "execution_count": 54,
   "metadata": {},
   "outputs": [
    {
     "data": {
      "text/plain": [
       "Counter({'C00748': 100,\n",
       "         'C15672': 100,\n",
       "         'C00123': 24,\n",
       "         'C00064': 24,\n",
       "         'C00082': 24,\n",
       "         'C01050': 24,\n",
       "         'C00002': 24,\n",
       "         'C00003': 24,\n",
       "         'C00073': 24,\n",
       "         'C00047': 24,\n",
       "         'C00078': 24,\n",
       "         'C00005': 24,\n",
       "         'C00350': 24,\n",
       "         'C00399': 24,\n",
       "         'C00015': 24,\n",
       "         'C00407': 24,\n",
       "         'C00062': 24,\n",
       "         'C00148': 24,\n",
       "         'C00362': 24,\n",
       "         'C00079': 24,\n",
       "         'C00360': 24,\n",
       "         'C00286': 24,\n",
       "         'C00112': 24,\n",
       "         'C00041': 24,\n",
       "         'C00055': 24,\n",
       "         'C00037': 24,\n",
       "         'C00144': 24,\n",
       "         'C00008': 24,\n",
       "         'C00183': 24,\n",
       "         'C00116': 24,\n",
       "         'C00249': 24,\n",
       "         'C00043': 24,\n",
       "         'C00234': 24,\n",
       "         'C00131': 24,\n",
       "         'C00063': 24,\n",
       "         'C00459': 24,\n",
       "         'C00065': 24,\n",
       "         'C00044': 24,\n",
       "         'C00239': 24,\n",
       "         'C00020': 24,\n",
       "         'C00054': 24,\n",
       "         'C00035': 24,\n",
       "         'C00458': 24,\n",
       "         'C00025': 24,\n",
       "         'C05764': 24,\n",
       "         'C00135': 24,\n",
       "         'C00188': 24,\n",
       "         'C00364': 24,\n",
       "         'C00097': 24,\n",
       "         'C06040': 24,\n",
       "         'C00016': 24,\n",
       "         'C05894': 24,\n",
       "         'C16221': 24,\n",
       "         'C00641': 24,\n",
       "         'C00075': 24,\n",
       "         'C00006': 24,\n",
       "         'C00004': 24,\n",
       "         'C00152': 24,\n",
       "         'C00049': 24,\n",
       "         'C05980': 24,\n",
       "         'C00024': 24,\n",
       "         'C00105': 24,\n",
       "         'C00255': 24})"
      ]
     },
     "execution_count": 54,
     "metadata": {},
     "output_type": "execute_result"
    }
   ],
   "source": [
    "Counter([i for outer in all_unreached['10nw'] for i in outer])"
   ]
  },
  {
   "cell_type": "code",
   "execution_count": null,
   "metadata": {},
   "outputs": [],
   "source": []
  },
  {
   "cell_type": "code",
   "execution_count": null,
   "metadata": {},
   "outputs": [],
   "source": []
  },
  {
   "cell_type": "code",
   "execution_count": null,
   "metadata": {},
   "outputs": [],
   "source": []
  }
 ],
 "metadata": {
  "kernelspec": {
   "display_name": "Python 3",
   "language": "python",
   "name": "python3"
  },
  "language_info": {
   "codemirror_mode": {
    "name": "ipython",
    "version": 3
   },
   "file_extension": ".py",
   "mimetype": "text/x-python",
   "name": "python",
   "nbconvert_exporter": "python",
   "pygments_lexer": "ipython3",
   "version": "3.7.2"
  }
 },
 "nbformat": 4,
 "nbformat_minor": 2
}
